{
 "cells": [
  {
   "cell_type": "markdown",
   "metadata": {},
   "source": [
    "Question 1:  Consecutive Characters\n",
    "Write a function to find the length of the longest substring that contains only one unique character.\n",
    "Constraints:\n",
    "- Input is a non-empty string without spaces\n",
    "Example 1:  \n",
    "Input: \"e\"\n",
    "Output: 1\n",
    "Example 2:  \n",
    "Input: \"ee\"\n",
    "Output: 2\n",
    "Example 3:\n",
    "Input: \"triplepillooooow\"\n",
    "Output: 5  (o is the longest substring)\n"
   ]
  },
  {
   "cell_type": "code",
   "execution_count": null,
   "metadata": {},
   "outputs": [],
   "source": [
    "# input: a string\n",
    "# output: length (\"repeated charactr\" is the longest substring) \n",
    "\n",
    "\n",
    "\n",
    "# input\n",
    "# check:\n",
    "## must be string\n",
    "## must not have space\n",
    "# otherwise: keep input\n",
    "\n",
    "\n",
    "\n",
    "# list out all characters\n",
    "# show me the repeated values\n",
    "# print the character with largest repeated value\n"
   ]
  },
  {
   "cell_type": "code",
   "execution_count": 1,
   "metadata": {},
   "outputs": [],
   "source": [
    "#check input: no space, must be alpha\n",
    "def checkinput():\n",
    "    default=False\n",
    "    while default is False:\n",
    "        input_str=input()\n",
    "        if input_str.isalpha() is True:\n",
    "            default=True\n",
    "            return True,input_str"
   ]
  },
  {
   "cell_type": "code",
   "execution_count": 2,
   "metadata": {},
   "outputs": [],
   "source": [
    "#show distinct char only\n",
    "#count must be >1\n",
    "\n",
    "def distinctchar(input_str):\n",
    "    charlist=[]\n",
    "    for i in input_str:\n",
    "        charlist.append(i)\n",
    "    #store distinct char in a list\n",
    "    distinctlist=list(dict.fromkeys(charlist))\n",
    "    grpdistinctlist=[]\n",
    "    #count disinct char.\n",
    "    for i in distinctlist:\n",
    "        count=charlist.count(i)\n",
    "        #only return count>1\n",
    "        if count!=1:\n",
    "            a=(i,count)\n",
    "            grpdistinctlist.append(a)\n",
    "    return grpdistinctlist #return list of distinct char\n"
   ]
  },
  {
   "cell_type": "code",
   "execution_count": 6,
   "metadata": {},
   "outputs": [
    {
     "name": "stdin",
     "output_type": "stream",
     "text": [
      " kkmdnjjjjsddd\n"
     ]
    },
    {
     "name": "stdout",
     "output_type": "stream",
     "text": [
      "length is 2. ('k', 2) is the longest substring\n",
      "length is 4. ('j', 4) is the longest substring\n"
     ]
    }
   ],
   "source": [
    "#return input after checking\n",
    "input_result, input_str=checkinput()\n",
    "\n",
    "\n",
    "charlist=[]\n",
    "for i in input_str:\n",
    "    charlist.append(i)\n",
    "\n",
    "\n",
    "if len(charlist)!=1: \n",
    "    outcome=distinctchar(input_str) #list of distinct char\n",
    "    for j in outcome:\n",
    "        if str(j[0]*j[1]) in input_str:\n",
    "            print(\"length is {}. {} is the longest substring\".format(j[1],j))\n",
    "            \n",
    "else:\n",
    "    print(\"length is {}. {} is the longest substring\".format(len(i),i))"
   ]
  },
  {
   "cell_type": "code",
   "execution_count": null,
   "metadata": {},
   "outputs": [],
   "source": [
    "##need to fix"
   ]
  }
 ],
 "metadata": {
  "kernelspec": {
   "display_name": "Python 3",
   "language": "python",
   "name": "python3"
  },
  "language_info": {
   "codemirror_mode": {
    "name": "ipython",
    "version": 3
   },
   "file_extension": ".py",
   "mimetype": "text/x-python",
   "name": "python",
   "nbconvert_exporter": "python",
   "pygments_lexer": "ipython3",
   "version": "3.8.3"
  }
 },
 "nbformat": 4,
 "nbformat_minor": 4
}
