{
 "cells": [
  {
   "cell_type": "markdown",
   "metadata": {},
   "source": [
    "Question 2:\n",
    "Write a function to obtain Fibonacci Sequence. 0,1,1,2,3,5,8,13,21,34,...\n",
    "The series starts with 0 and 1 as the first two numbers in the series. \n",
    "The next number in the series is found by summing the two numbers before it.\n",
    "f(0) = 0\n",
    "f(1) = 1\n",
    "f(n) = f(n-1) + f(n-2)\n",
    "Example 1:\n",
    "Input: n = 1\n",
    "Output: 1\n",
    "Example 2:\n",
    "Input: n = 2\n",
    "Output: 1\n",
    "Example 3:\n",
    "Input: n = 6\n",
    "Output: 8"
   ]
  },
  {
   "cell_type": "code",
   "execution_count": 1,
   "metadata": {},
   "outputs": [],
   "source": [
    "#check input location nth\n",
    "#must be a number & int\n",
    "\n",
    "def checkinput():\n",
    "    default=False\n",
    "    while default is False:\n",
    "        input_str=input()\n",
    "        if input_str.isdigit() is True:\n",
    "            input_int=int(input_str)\n",
    "            default=True\n",
    "            return input_int\n",
    "\n",
    "        \n",
    "        \n",
    "def nminus1(input_int):\n",
    "    n0=0\n",
    "    n1=1\n",
    "    n2=n0+n1\n",
    "    n3=n2+n1\n",
    "    n4=n3+n2\n",
    "    n0=nth\n",
    "    \n",
    "    \n",
    "    return result1\n",
    "        \n",
    "def nminus2():\n",
    "    return result1"
   ]
  },
  {
   "cell_type": "code",
   "execution_count": 4,
   "metadata": {},
   "outputs": [
    {
     "name": "stdin",
     "output_type": "stream",
     "text": [
      " sios\n",
      " 23\n"
     ]
    },
    {
     "name": "stdout",
     "output_type": "stream",
     "text": [
      "43\n"
     ]
    }
   ],
   "source": [
    "input_int=checkinput()\n",
    "if input_int==0:\n",
    "    result=0\n",
    "    print(result)\n",
    "elif input_int==1:\n",
    "    result=1\n",
    "    print(result)\n",
    "else:\n",
    "    #run function and cal.\n",
    "    x1=input_int-1\n",
    "    x2=input_int-2\n",
    "    result=cal(x1,x2)\n",
    "    print(result)"
   ]
  },
  {
   "cell_type": "code",
   "execution_count": null,
   "metadata": {},
   "outputs": [],
   "source": []
  }
 ],
 "metadata": {
  "kernelspec": {
   "display_name": "Python 3",
   "language": "python",
   "name": "python3"
  },
  "language_info": {
   "codemirror_mode": {
    "name": "ipython",
    "version": 3
   },
   "file_extension": ".py",
   "mimetype": "text/x-python",
   "name": "python",
   "nbconvert_exporter": "python",
   "pygments_lexer": "ipython3",
   "version": "3.8.3"
  }
 },
 "nbformat": 4,
 "nbformat_minor": 4
}
