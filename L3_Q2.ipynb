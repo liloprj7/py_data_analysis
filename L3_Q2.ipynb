{
 "cells": [
  {
   "cell_type": "markdown",
   "metadata": {},
   "source": [
    "Question 2:\n",
    "Write a function to obtain Fibonacci Sequence. 0,1,1,2,3,5,8,13,21,34,...\n",
    "The series starts with 0 and 1 as the first two numbers in the series. \n",
    "The next number in the series is found by summing the two numbers before it.\n",
    "f(0) = 0\n",
    "f(1) = 1\n",
    "f(n) = f(n-1) + f(n-2)\n",
    "Example 1:\n",
    "Input: n = 1\n",
    "Output: 1\n",
    "Example 2:\n",
    "Input: n = 2\n",
    "Output: 1\n",
    "Example 3:\n",
    "Input: n = 6\n",
    "Output: 8"
   ]
  },
  {
   "cell_type": "code",
   "execution_count": null,
   "metadata": {},
   "outputs": [],
   "source": [
    "#check input location nth\n",
    "#must be a number & int\n",
    "\n",
    "def checkinput():\n",
    "    default=False\n",
    "    while default is False:\n",
    "        input_str=input(\"please input nth:\")\n",
    "        if input_str.isdigit() is True:\n",
    "            input_int=int(input_str)\n",
    "            default=True\n",
    "            return input_int\n",
    "\n",
    "        \n",
    "def returnoutput(input_int):\n",
    "    result0=0\n",
    "    result1=1\n",
    "    for i in range(1,input_int):\n",
    "        resultnth=result1+result0\n",
    "        #another method: append with empty list, and get the last one list1[-1]\n",
    "        #list1.append(resultnth)\n",
    "        result0=result1\n",
    "        result1=resultnth\n",
    "        if i==input_int-1:\n",
    "            return resultnth\n",
    "#    return (list1[-1])"
   ]
  },
  {
   "cell_type": "code",
   "execution_count": null,
   "metadata": {},
   "outputs": [],
   "source": [
    "input_int=checkinput()\n",
    "if input_int==0:\n",
    "    result=0\n",
    "    print(result)\n",
    "\n",
    "elif input_int==1:\n",
    "    result=1\n",
    "    print(result)\n",
    "\n",
    "else:\n",
    "    #run function and cal.\n",
    "    output=returnoutput(input_int)\n",
    "    print(output)"
   ]
  },
  {
   "cell_type": "code",
   "execution_count": null,
   "metadata": {},
   "outputs": [],
   "source": []
  }
 ],
 "metadata": {
  "kernelspec": {
   "display_name": "Python 3",
   "language": "python",
   "name": "python3"
  },
  "language_info": {
   "codemirror_mode": {
    "name": "ipython",
    "version": 3
   },
   "file_extension": ".py",
   "mimetype": "text/x-python",
   "name": "python",
   "nbconvert_exporter": "python",
   "pygments_lexer": "ipython3",
   "version": "3.8.3"
  }
 },
 "nbformat": 4,
 "nbformat_minor": 4
}
