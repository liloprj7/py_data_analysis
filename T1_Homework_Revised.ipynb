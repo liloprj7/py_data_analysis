{
 "cells": [
  {
   "cell_type": "code",
   "execution_count": 1,
   "metadata": {},
   "outputs": [],
   "source": [
    "#Qustion 1"
   ]
  },
  {
   "cell_type": "code",
   "execution_count": 23,
   "metadata": {},
   "outputs": [],
   "source": [
    "\n",
    "def checkprime(input_num):\n",
    "    mylist=[]\n",
    "    for i in range(1,input_num+1):\n",
    "        if input_num%i==0:\n",
    "            mylist.append(i)\n",
    "\n",
    "    print(mylist)\n",
    "\n",
    "    if len(mylist)>2:\n",
    "        print(\"It is not a prime number\")\n",
    "\n",
    "    else:\n",
    "        print(\"It is a prime number\")\n"
   ]
  },
  {
   "cell_type": "code",
   "execution_count": 24,
   "metadata": {},
   "outputs": [
    {
     "name": "stdout",
     "output_type": "stream",
     "text": [
      "[1, 3, 9]\n",
      "It is not a prime number\n"
     ]
    }
   ],
   "source": [
    "checkprime(9)"
   ]
  },
  {
   "cell_type": "code",
   "execution_count": null,
   "metadata": {},
   "outputs": [],
   "source": []
  },
  {
   "cell_type": "code",
   "execution_count": null,
   "metadata": {},
   "outputs": [],
   "source": [
    "#Question 2"
   ]
  },
  {
   "cell_type": "markdown",
   "metadata": {},
   "source": [
    "\n",
    "\n",
    "\n",
    "\n",
    "\n",
    "\n",
    "for num_int in range(100,1000):\n",
    "    \n",
    "    \n",
    "    \n",
    "    num_int = int\n",
    "    need to change to str, to get str position\n",
    "    \n",
    "    num_str = str(num_int)\n",
    "    \n",
    "   \n",
    "    \n",
    "    \n",
    "    if digit_sum(int)=7:\n",
    "        \n",
    "        \n",
    "        \n",
    "        \n",
    "        \n",
    "        \n",
    "        print(i)\n",
    "        \n",
    "        \n",
    "        \n",
    "        \n",
    "        "
   ]
  },
  {
   "cell_type": "code",
   "execution_count": 111,
   "metadata": {},
   "outputs": [
    {
     "name": "stdout",
     "output_type": "stream",
     "text": [
      "7\n"
     ]
    }
   ],
   "source": [
    "counter=0\n",
    "num_str=\"340\"\n",
    "\n",
    "for i in num_str:\n",
    "    counter=counter+int(i)\n",
    "sum_digits=counter\n",
    "print(sum_digits)\n",
    "\n",
    "\n"
   ]
  },
  {
   "cell_type": "code",
   "execution_count": null,
   "metadata": {},
   "outputs": [],
   "source": []
  },
  {
   "cell_type": "code",
   "execution_count": 50,
   "metadata": {},
   "outputs": [],
   "source": [
    "def digit_sum_7(start_range, end_range):\n",
    "    for num_int in range(start_range,end_range):\n",
    "        sum=0\n",
    "        num_str = str(num_int) #<--change type from int to str, for summing up 3 digits of a number\n",
    "        for i in num_str: #<--loop 3 digits\n",
    "            sum+=int(i) #<--sum up 3 digits\n",
    "        if sum==7:\n",
    "            print(num_int, sum)\n",
    "        elif sum>9:\n",
    "            sum_2=0\n",
    "            sum_str = str(sum)\n",
    "            for k in sum_str:\n",
    "                sum_2+=int(k)\n",
    "            if sum_2==7:\n",
    "                print(num_int, sum_2)"
   ]
  },
  {
   "cell_type": "code",
   "execution_count": 51,
   "metadata": {},
   "outputs": [
    {
     "name": "stdout",
     "output_type": "stream",
     "text": [
      "16 7\n",
      "25 7\n",
      "34 7\n",
      "43 7\n"
     ]
    }
   ],
   "source": [
    "digit_sum_7(10,50)"
   ]
  },
  {
   "cell_type": "code",
   "execution_count": 117,
   "metadata": {},
   "outputs": [],
   "source": [
    "def digit_sum_7(start_range, end_range):\n",
    "    for num_int in range(start_range,end_range):\n",
    "        \n",
    "        sum=0\n",
    "        num_str = str(num_int) #<--change type from int to str, for summing up 3 digits of a number\n",
    "        for i in num_str: #<--loop 3 digits\n",
    "            sum+=int(i) #<--sum up 3 digits\n",
    "        if sum==7:\n",
    "            print(num_int, sum)\n",
    "        elif sum>9:\n",
    "            sum_2=0\n",
    "            sum_str = str(sum)\n",
    "            for k in sum_str:\n",
    "                sum_2+=int(k)\n",
    "            if sum_2==7:\n",
    "                print(num_int, sum_2)"
   ]
  },
  {
   "cell_type": "code",
   "execution_count": 118,
   "metadata": {},
   "outputs": [
    {
     "name": "stdout",
     "output_type": "stream",
     "text": [
      "106 7\n",
      "115 7\n",
      "124 7\n",
      "133 7\n",
      "142 7\n",
      "151 7\n",
      "160 7\n",
      "169 7\n",
      "178 7\n",
      "187 7\n",
      "196 7\n",
      "205 7\n",
      "214 7\n",
      "223 7\n",
      "232 7\n",
      "241 7\n",
      "250 7\n",
      "259 7\n",
      "268 7\n",
      "277 7\n",
      "286 7\n",
      "295 7\n",
      "304 7\n",
      "313 7\n",
      "322 7\n",
      "331 7\n",
      "340 7\n",
      "349 7\n",
      "358 7\n",
      "367 7\n",
      "376 7\n",
      "385 7\n",
      "394 7\n",
      "403 7\n",
      "412 7\n",
      "421 7\n",
      "430 7\n",
      "439 7\n",
      "448 7\n",
      "457 7\n",
      "466 7\n",
      "475 7\n",
      "484 7\n",
      "493 7\n",
      "502 7\n",
      "511 7\n",
      "520 7\n",
      "529 7\n",
      "538 7\n",
      "547 7\n",
      "556 7\n",
      "565 7\n",
      "574 7\n",
      "583 7\n",
      "592 7\n",
      "601 7\n",
      "610 7\n",
      "619 7\n",
      "628 7\n",
      "637 7\n",
      "646 7\n",
      "655 7\n",
      "664 7\n",
      "673 7\n",
      "682 7\n",
      "691 7\n",
      "700 7\n",
      "709 7\n",
      "718 7\n",
      "727 7\n",
      "736 7\n",
      "745 7\n",
      "754 7\n",
      "763 7\n",
      "772 7\n",
      "781 7\n",
      "790 7\n",
      "799 7\n",
      "808 7\n",
      "817 7\n",
      "826 7\n",
      "835 7\n",
      "844 7\n",
      "853 7\n",
      "862 7\n",
      "871 7\n",
      "880 7\n",
      "889 7\n",
      "898 7\n",
      "907 7\n",
      "916 7\n",
      "925 7\n",
      "934 7\n",
      "943 7\n",
      "952 7\n",
      "961 7\n",
      "970 7\n",
      "979 7\n",
      "988 7\n",
      "997 7\n"
     ]
    }
   ],
   "source": [
    "digit_sum_7(100,999)"
   ]
  },
  {
   "cell_type": "code",
   "execution_count": null,
   "metadata": {},
   "outputs": [],
   "source": []
  },
  {
   "cell_type": "code",
   "execution_count": 119,
   "metadata": {},
   "outputs": [],
   "source": [
    "list=[]\n",
    "def digit_sum_7(start_range, end_range):\n",
    "    for num_int in range(start_range,end_range):\n",
    "        sum=0\n",
    "        num_str = str(num_int) #<--change type from int to str, for summing up 3 digits of a number\n",
    "        for i in num_str: #<--loop 3 digits\n",
    "            sum+=int(i) #<--sum up 3 digits\n",
    "        if sum==7:\n",
    "            list.append(num_int)\n",
    "    return list"
   ]
  },
  {
   "cell_type": "code",
   "execution_count": 120,
   "metadata": {},
   "outputs": [
    {
     "name": "stdin",
     "output_type": "stream",
     "text": [
      " 100\n",
      " 999\n"
     ]
    },
    {
     "name": "stdout",
     "output_type": "stream",
     "text": [
      "[106, 115, 124, 133, 142, 151, 160, 205, 214, 223, 232, 241, 250, 304, 313, 322, 331, 340, 403, 412, 421, 430, 502, 511, 520, 601, 610, 700]\n"
     ]
    }
   ],
   "source": [
    "start_range=int(input())\n",
    "end_range=int(input())\n",
    "a = digit_sum_7(start_range, end_range)\n",
    "print(a)"
   ]
  },
  {
   "cell_type": "code",
   "execution_count": null,
   "metadata": {},
   "outputs": [],
   "source": []
  },
  {
   "cell_type": "code",
   "execution_count": null,
   "metadata": {},
   "outputs": [],
   "source": []
  },
  {
   "cell_type": "code",
   "execution_count": null,
   "metadata": {},
   "outputs": [],
   "source": []
  },
  {
   "cell_type": "code",
   "execution_count": null,
   "metadata": {},
   "outputs": [],
   "source": []
  },
  {
   "cell_type": "code",
   "execution_count": null,
   "metadata": {},
   "outputs": [],
   "source": []
  },
  {
   "cell_type": "code",
   "execution_count": null,
   "metadata": {},
   "outputs": [],
   "source": []
  },
  {
   "cell_type": "code",
   "execution_count": null,
   "metadata": {},
   "outputs": [],
   "source": []
  },
  {
   "cell_type": "code",
   "execution_count": null,
   "metadata": {},
   "outputs": [],
   "source": []
  },
  {
   "cell_type": "code",
   "execution_count": null,
   "metadata": {},
   "outputs": [],
   "source": []
  },
  {
   "cell_type": "code",
   "execution_count": null,
   "metadata": {},
   "outputs": [],
   "source": []
  },
  {
   "cell_type": "code",
   "execution_count": null,
   "metadata": {},
   "outputs": [],
   "source": []
  },
  {
   "cell_type": "code",
   "execution_count": 8,
   "metadata": {},
   "outputs": [],
   "source": [
    "# calculate sum\n",
    "\n",
    "\n",
    "\n",
    "def sum_1():\n",
    "    list=[]\n",
    "    for i_num in range(100,200):\n",
    "        sum_digit=0\n",
    "        i_str=str(i_num)\n",
    "        for n in i_str:\n",
    "            sum_digit=sum_digit+int(n)\n",
    "        list.append(sum_digit)\n",
    "\n"
   ]
  },
  {
   "cell_type": "code",
   "execution_count": 1,
   "metadata": {},
   "outputs": [
    {
     "name": "stdout",
     "output_type": "stream",
     "text": [
      "10 2\n"
     ]
    }
   ],
   "source": [
    "def sum_2(i_num, sum_digit):\n",
    "    sum_2_digit=0\n",
    "    sum_digit_str=str(sum_digit)\n",
    "    for j in sum_digit_str:\n",
    "        sum_2_digit=sum_2_digit+int(j)\n",
    "    print(i_num,sum_2_digit)\n",
    "\n",
    "sum_2(10,)\n"
   ]
  },
  {
   "cell_type": "code",
   "execution_count": null,
   "metadata": {},
   "outputs": [],
   "source": []
  }
 ],
 "metadata": {
  "kernelspec": {
   "display_name": "Python 3",
   "language": "python",
   "name": "python3"
  },
  "language_info": {
   "codemirror_mode": {
    "name": "ipython",
    "version": 3
   },
   "file_extension": ".py",
   "mimetype": "text/x-python",
   "name": "python",
   "nbconvert_exporter": "python",
   "pygments_lexer": "ipython3",
   "version": "3.8.3"
  }
 },
 "nbformat": 4,
 "nbformat_minor": 4
}
