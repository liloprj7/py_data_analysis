{
 "cells": [
  {
   "cell_type": "markdown",
   "metadata": {},
   "source": [
    "write a function which input list with following propeteries\n",
    "- all elements are positive integer \n",
    "- all elements exist twice except one\n",
    "e.g [1,4,6,7,5,4,6,1,7] -> 5\n",
    "and output the single occured element "
   ]
  },
  {
   "cell_type": "code",
   "execution_count": 9,
   "metadata": {},
   "outputs": [],
   "source": [
    "def check1int():\n",
    "    default=False\n",
    "    while default is False:   \n",
    "        fulllist=input(\"Now create unique number list.Please input unique number: x1,x2,x3,x4...n\")\n",
    "        list1=fulllist.rsplit(\",\")\n",
    "        set1=set(list1)\n",
    "        checklist=[]\n",
    "        #check any duplicate elements\n",
    "        if len(set1)==len(list1):\n",
    "            for i in list1:\n",
    "                #check any non-digit elements\n",
    "                if i.isdigit() is True and int(i)>0:\n",
    "                    checklist.append(i)\n",
    "        else:\n",
    "            print(\"Please input unique number: x1,x2,x3,4...n\")\n",
    "        #only keep digit elements in lists\n",
    "        if len(checklist)==len(list1):\n",
    "            default=True\n",
    "            print(\"unique number list is {}\".format(checklist))\n",
    "            return list1\n",
    "        else:\n",
    "            print(\"Please input unique number: x1,x2,x3,4...n\")\n",
    "                "
   ]
  },
  {
   "cell_type": "code",
   "execution_count": 10,
   "metadata": {},
   "outputs": [
    {
     "name": "stdin",
     "output_type": "stream",
     "text": [
      "Now create unique number list.Please input unique number: x1,x2,x3,x4...n 1,2,3,4\n"
     ]
    },
    {
     "name": "stdout",
     "output_type": "stream",
     "text": [
      "unique number list is ['1', '2', '3', '4']\n",
      "duplicate number list is ['1', '2', '3', '4', '4', '3', '2', '1']\n",
      "updated list is ['1', '3', '4', '4', '3', '2', '1']\n",
      "the single occured number is 2\n"
     ]
    }
   ],
   "source": [
    "list1=check1int()\n",
    "#create a full list with duplicate elements\n",
    "\n",
    "for j in reversed(list1):\n",
    "    list1.append(j)\n",
    "print(\"duplicate number list is {}\".format(list1))\n",
    "\n",
    "#remove an element from the list\n",
    "#randomly pick it\n",
    "import random\n",
    "rand_num=random.choice(list1)\n",
    "list1.remove(rand_num)\n",
    "print(\"updated list is {}\".format(list1))\n",
    "print(\"the single occured number is {}\".format(rand_num))"
   ]
  },
  {
   "cell_type": "code",
   "execution_count": null,
   "metadata": {},
   "outputs": [],
   "source": [
    "fulllist=input(\"Now create a duplicate list.Please input unique number: x1,x2,x3,4...n\")\n",
    "list1=fulllist.rsplit(\",\")\n",
    "set1=set(list1)\n",
    "print(len(set1))\n",
    "print(len(list1))"
   ]
  },
  {
   "cell_type": "code",
   "execution_count": null,
   "metadata": {},
   "outputs": [],
   "source": []
  },
  {
   "cell_type": "code",
   "execution_count": null,
   "metadata": {},
   "outputs": [],
   "source": [
    "    "
   ]
  }
 ],
 "metadata": {
  "kernelspec": {
   "display_name": "Python 3",
   "language": "python",
   "name": "python3"
  },
  "language_info": {
   "codemirror_mode": {
    "name": "ipython",
    "version": 3
   },
   "file_extension": ".py",
   "mimetype": "text/x-python",
   "name": "python",
   "nbconvert_exporter": "python",
   "pygments_lexer": "ipython3",
   "version": "3.8.3"
  }
 },
 "nbformat": 4,
 "nbformat_minor": 4
}
