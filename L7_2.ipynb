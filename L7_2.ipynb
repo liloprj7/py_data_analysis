{
 "cells": [
  {
   "cell_type": "code",
   "execution_count": null,
   "metadata": {},
   "outputs": [],
   "source": [
    "import pandas as pd"
   ]
  },
  {
   "cell_type": "code",
   "execution_count": null,
   "metadata": {},
   "outputs": [],
   "source": [
    "str_cols = [\"SCHEDULED_DEPARTURE\", \"DEPARTURE_TIME\",\"WHEELS_OFF\",\"WHEELS_ON\",\"SCHEDULED_ARRIVAL\",\"ARRIVAL_TIME\"]\n",
    "df_flights=pd.read_csv(\"data/flights.csv\",dtype={i:str for i in str_cols})\n",
    "df_airlines=pd.read_csv(\"data/airlines.csv\")\n",
    "df_airports=pd.read_csv(\"data/airports.csv\")"
   ]
  },
  {
   "cell_type": "markdown",
   "metadata": {},
   "source": [
    "### Time your work, 2 hours max\n",
    "\n",
    "### Each row is <AIRLINE> <AIRPORT>, each row is hour range (0-3am, 3-6am, ..., 9pm-12) total 8 session per day (edited) \n",
    "\n",
    "### table 1, total count of flight \n",
    "\n",
    "### table 2, average delay ratio excluding cancelled flight \n",
    "\n",
    "### table 3, average delay in minutes \n",
    "\n",
    "### delay definition: departure delay for operated flight \n",
    "\n",
    "### operated = non cancelled"
   ]
  },
  {
   "cell_type": "markdown",
   "metadata": {},
   "source": [
    "### table 1\n",
    "\n",
    "### df_flights: groupby AIRLINE, ORIGIN_AIRPORT, DEPARTURE_TIME, NEW COLUMN - DEPARTURE_TIME_HOUR"
   ]
  },
  {
   "cell_type": "code",
   "execution_count": null,
   "metadata": {},
   "outputs": [],
   "source": [
    "# find operated flights\n",
    "df_result=df_flights.loc[df_flights[\"CANCELLED\"]!=1]\n",
    "df_result[\"DEPARTURE_TIME_HOUR\"]=[i[:2] for i in df_result[\"DEPARTURE_TIME\"]]\n",
    "data1=[\"0-2\",\"0-2\",\"0-2\",\"3-5\",\"3-5\",\"3-5\",\"6-8\",\"6-8\",\"6-8\",\"9-11\",\"9-11\",\"9-11\",\"12-14\",\"12-14\",\"12-14\",\"15-17\",\"15-17\",\"15-17\",\"18-20\",\"18-20\",\"18-20\",\"21-23\",\"21-23\",\"21-23\"]\n",
    "rows1=[\"00\",\"01\",\"02\",\"03\",\"04\",\"05\",\"06\",\"07\",\"08\",\"09\",\"10\",\"11\",\"12\",\"13\",\"14\",\"15\",\"16\",\"17\",\"18\",\"19\",\"20\",\"21\",\"22\",\"23\"]\n",
    "df_lookup=pd.DataFrame(data=rows1,columns=[\"HOUR\"])\n",
    "df_lookup[\"HOUR_RANGE\"]=data1\n",
    "df_result2=df_result.merge(df_lookup,how=\"left\",left_on=\"DEPARTURE_TIME_HOUR\",right_on=\"HOUR\")\n",
    "table1=pd.pivot_table(df_result2,values=[\"FLIGHT_NUMBER\"],index=[\"AIRLINE\",\"ORIGIN_AIRPORT\"],columns=[\"HOUR_RANGE\"],aggfunc=[len])\n",
    "a=table1[\"len\"][\"FLIGHT_NUMBER\"]\n",
    "index1=[\"0-2\",\"3-5\",\"6-8\",\"9-11\",\"12-14\",\"15-17\",\"18-20\",\"21-23\"]\n",
    "b=a.reindex(columns=index1)\n",
    "b.to_excel(\"table1.xlsx\")"
   ]
  },
  {
   "cell_type": "code",
   "execution_count": null,
   "metadata": {},
   "outputs": [],
   "source": []
  },
  {
   "cell_type": "markdown",
   "metadata": {},
   "source": [
    "### Table2"
   ]
  },
  {
   "cell_type": "code",
   "execution_count": null,
   "metadata": {},
   "outputs": [],
   "source": [
    "# find operated flights\n",
    "df_result=df_flights.loc[df_flights[\"CANCELLED\"]!=1]\n",
    "df_result[\"DEPARTURE_TIME_HOUR\"]=[i[:2] for i in df_result[\"DEPARTURE_TIME\"]]\n",
    "data1=[\"0-2\",\"0-2\",\"0-2\",\"3-5\",\"3-5\",\"3-5\",\"6-8\",\"6-8\",\"6-8\",\"9-11\",\"9-11\",\"9-11\",\"12-14\",\"12-14\",\"12-14\",\"15-17\",\"15-17\",\"15-17\",\"18-20\",\"18-20\",\"18-20\",\"21-23\",\"21-23\",\"21-23\"]\n",
    "rows1=[\"00\",\"01\",\"02\",\"03\",\"04\",\"05\",\"06\",\"07\",\"08\",\"09\",\"10\",\"11\",\"12\",\"13\",\"14\",\"15\",\"16\",\"17\",\"18\",\"19\",\"20\",\"21\",\"22\",\"23\"]\n",
    "df_lookup=pd.DataFrame(data=rows1,columns=[\"HOUR\"])\n",
    "df_lookup[\"HOUR_RANGE\"]=data1\n",
    "df_result2=df_result.merge(df_lookup,how=\"left\",left_on=\"DEPARTURE_TIME_HOUR\",right_on=\"HOUR\")\n",
    "\n",
    "\n",
    "df_result2[\"isdelayed\"]=df_result2[\"DEPARTURE_DELAY\"]>0\n",
    "df_result3=df_result2.groupby(by=[\"AIRLINE\",\"HOUR_RANGE\",\"ORIGIN_AIRPORT\"]).agg({\"AIRLINE\":\"count\",\"isdelayed\":\"sum\"})\n",
    "df_result3[\"delay_ratio\"]=df_result3[\"isdelayed\"]/df_result3[\"AIRLINE\"]\n",
    "a=df_result3[\"delay_ratio\"]\n",
    "b=a.reset_index()\n",
    "c=pd.pivot_table(b,values=\"delay_ratio\",index=[\"AIRLINE\",\"ORIGIN_AIRPORT\"],columns=\"HOUR_RANGE\",aggfunc=\"mean\")\n",
    "c.reindex(columns=[\"0-2\",\"3-5\",\"6-8\",\"9-11\",\"12-14\",\"15-17\",\"18-20\",\"21-23\"]).to_excel(\"table2.xlsx\")"
   ]
  },
  {
   "cell_type": "code",
   "execution_count": null,
   "metadata": {},
   "outputs": [],
   "source": []
  },
  {
   "cell_type": "code",
   "execution_count": null,
   "metadata": {},
   "outputs": [],
   "source": []
  },
  {
   "cell_type": "markdown",
   "metadata": {},
   "source": [
    "### Table3"
   ]
  },
  {
   "cell_type": "code",
   "execution_count": null,
   "metadata": {},
   "outputs": [],
   "source": [
    "df_result3=df_flights.loc[df_flights[\"DEPARTURE_DELAY\"]>0]\n",
    "df_result3[\"DEPARTURE_TIME_HOUR\"]=[i[:2] for i in df_result3[\"DEPARTURE_TIME\"]]\n",
    "data1=[\"0-2\",\"0-2\",\"0-2\",\"3-5\",\"3-5\",\"3-5\",\"6-8\",\"6-8\",\"6-8\",\"9-11\",\"9-11\",\"9-11\",\"12-14\",\"12-14\",\"12-14\",\"15-17\",\"15-17\",\"15-17\",\"18-20\",\"18-20\",\"18-20\",\"21-23\",\"21-23\",\"21-23\"]\n",
    "rows1=[\"00\",\"01\",\"02\",\"03\",\"04\",\"05\",\"06\",\"07\",\"08\",\"09\",\"10\",\"11\",\"12\",\"13\",\"14\",\"15\",\"16\",\"17\",\"18\",\"19\",\"20\",\"21\",\"22\",\"23\"]\n",
    "df_lookup=pd.DataFrame(data=rows1,columns=[\"HOUR\"])\n",
    "df_lookup[\"HOUR_RANGE\"]=data1\n",
    "df_result4=df_result3.merge(df_lookup,how=\"left\",left_on=\"DEPARTURE_TIME_HOUR\",right_on=\"HOUR\")\n",
    "df_result5=df_result4[[\"AIRLINE\",\"ORIGIN_AIRPORT\",\"DEPARTURE_DELAY\",\"HOUR_RANGE\"]]\n",
    "df_result6=df_result5.pivot_table(values=\"DEPARTURE_DELAY\",index=[\"AIRLINE\",\"ORIGIN_AIRPORT\"],columns=\"HOUR_RANGE\",aggfunc=\"mean\")\n",
    "df_result6.reindex(columns=[\"0-2\",\"3-5\",\"6-8\",\"9-11\",\"12-14\",\"15-17\",\"18-20\",\"21-23\"]).round(1).to_excel(\"table3.xlsx\")"
   ]
  },
  {
   "cell_type": "code",
   "execution_count": null,
   "metadata": {},
   "outputs": [],
   "source": []
  }
 ],
 "metadata": {
  "kernelspec": {
   "display_name": "Python 3",
   "language": "python",
   "name": "python3"
  },
  "language_info": {
   "codemirror_mode": {
    "name": "ipython",
    "version": 3
   },
   "file_extension": ".py",
   "mimetype": "text/x-python",
   "name": "python",
   "nbconvert_exporter": "python",
   "pygments_lexer": "ipython3",
   "version": "3.8.3"
  }
 },
 "nbformat": 4,
 "nbformat_minor": 4
}
