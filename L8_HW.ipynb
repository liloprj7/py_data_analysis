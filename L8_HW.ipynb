{
 "cells": [
  {
   "cell_type": "code",
   "execution_count": 1,
   "metadata": {},
   "outputs": [],
   "source": [
    "import pandas as pd\n",
    "import numpy as np"
   ]
  },
  {
   "cell_type": "code",
   "execution_count": 2,
   "metadata": {},
   "outputs": [],
   "source": [
    "df_train=pd.read_csv(\"data/train.csv\")\n",
    "df_test=pd.read_csv(\"data/test.csv\")"
   ]
  },
  {
   "cell_type": "code",
   "execution_count": 3,
   "metadata": {},
   "outputs": [],
   "source": [
    "fillvalues={\"Age\":df_train[\"Age\"].mean(),\"Cabin\":\"Z\",\"Embarked\":\"Z\"}\n",
    "df_train1=df_train.fillna(value=fillvalues)"
   ]
  },
  {
   "cell_type": "code",
   "execution_count": 4,
   "metadata": {},
   "outputs": [],
   "source": [
    "# create new column for cabin\n",
    "df_train1[\"CabinN\"]=[i[0] for i in df_train1[\"Cabin\"]]"
   ]
  },
  {
   "cell_type": "code",
   "execution_count": 5,
   "metadata": {},
   "outputs": [],
   "source": [
    "df_train1[\"AgeCat\"]=df_train1[\"Age\"]//10"
   ]
  },
  {
   "cell_type": "code",
   "execution_count": 6,
   "metadata": {},
   "outputs": [],
   "source": [
    "# create dummy variables\n",
    "sex_dummies=pd.get_dummies(df_train1[\"Sex\"],prefix=\"Sex\")\n",
    "embarked_dummies=pd.get_dummies(df_train1[\"Embarked\"],prefix=\"Embarked\")\n",
    "CarbinN_dummies=pd.get_dummies(df_train1[\"CabinN\"],prefix=\"CabinN\")\n",
    "df_train2=pd.concat([df_train1,sex_dummies,embarked_dummies,CarbinN_dummies],axis=1)"
   ]
  },
  {
   "cell_type": "code",
   "execution_count": 7,
   "metadata": {},
   "outputs": [
    {
     "data": {
      "text/plain": [
       "0.3838383838383838"
      ]
     },
     "execution_count": 7,
     "metadata": {},
     "output_type": "execute_result"
    }
   ],
   "source": [
    "df_train2[\"Survived\"].mean()"
   ]
  },
  {
   "cell_type": "code",
   "execution_count": 8,
   "metadata": {},
   "outputs": [
    {
     "data": {
      "text/plain": [
       "Index(['Sex_female', 'Sex_male', 'Embarked_C', 'Embarked_Q', 'Embarked_S',\n",
       "       'Embarked_Z', 'CabinN_A', 'CabinN_B', 'CabinN_C', 'CabinN_D',\n",
       "       'CabinN_E', 'CabinN_F', 'CabinN_G', 'CabinN_T', 'CabinN_Z'],\n",
       "      dtype='object')"
      ]
     },
     "execution_count": 8,
     "metadata": {},
     "output_type": "execute_result"
    }
   ],
   "source": [
    "df_train2.columns[14:]"
   ]
  },
  {
   "cell_type": "code",
   "execution_count": 9,
   "metadata": {},
   "outputs": [
    {
     "data": {
      "text/plain": [
       "Sex_female    0.352413\n",
       "Sex_male      0.647587\n",
       "Embarked_C    0.188552\n",
       "Embarked_Q    0.086420\n",
       "Embarked_S    0.722783\n",
       "Embarked_Z    0.002245\n",
       "CabinN_A      0.016835\n",
       "CabinN_B      0.052750\n",
       "CabinN_C      0.066218\n",
       "CabinN_D      0.037037\n",
       "CabinN_E      0.035915\n",
       "CabinN_F      0.014590\n",
       "CabinN_G      0.004489\n",
       "CabinN_T      0.001122\n",
       "CabinN_Z      0.771044\n",
       "dtype: float64"
      ]
     },
     "execution_count": 9,
     "metadata": {},
     "output_type": "execute_result"
    }
   ],
   "source": [
    "df_train2[df_train2.columns[14:]].mean()"
   ]
  },
  {
   "cell_type": "code",
   "execution_count": 10,
   "metadata": {},
   "outputs": [
    {
     "name": "stdout",
     "output_type": "stream",
     "text": [
      "            mean    count\n",
      "        Survived Survived\n",
      "Pclass                   \n",
      "1       0.629630      216\n",
      "2       0.472826      184\n",
      "3       0.242363      491\n",
      "            mean    count\n",
      "        Survived Survived\n",
      "Sex                      \n",
      "female  0.742038      314\n",
      "male    0.188908      577\n",
      "            mean    count\n",
      "        Survived Survived\n",
      "CabinN                   \n",
      "A       0.466667       15\n",
      "B       0.744681       47\n",
      "C       0.593220       59\n",
      "D       0.757576       33\n",
      "E       0.750000       32\n",
      "F       0.615385       13\n",
      "G       0.500000        4\n",
      "T       0.000000        1\n",
      "Z       0.299854      687\n",
      "            mean    count\n",
      "        Survived Survived\n",
      "AgeCat                   \n",
      "0.0     0.612903       62\n",
      "1.0     0.401961      102\n",
      "2.0     0.324937      397\n",
      "3.0     0.437126      167\n",
      "4.0     0.382022       89\n",
      "5.0     0.416667       48\n",
      "6.0     0.315789       19\n",
      "7.0     0.000000        6\n",
      "8.0     1.000000        1\n"
     ]
    }
   ],
   "source": [
    "x=[\"Pclass\",\"Sex\",\"CabinN\",\"AgeCat\"]\n",
    "for i in x:\n",
    "     print(df_train2.pivot_table(values=\"Survived\",index=i,aggfunc=[\"mean\",\"count\"]))"
   ]
  },
  {
   "cell_type": "code",
   "execution_count": 11,
   "metadata": {},
   "outputs": [
    {
     "name": "stdout",
     "output_type": "stream",
     "text": [
      "               mean count\n",
      "                Age   Age\n",
      "Survived                 \n",
      "0         30.415100   549\n",
      "1         28.549778   342\n",
      "               mean count\n",
      "               Fare  Fare\n",
      "Survived                 \n",
      "0         22.117887   549\n",
      "1         48.395408   342\n"
     ]
    }
   ],
   "source": [
    "x2=[\"Age\",\"Fare\"]\n",
    "for i in x2:\n",
    "    print(df_train2.pivot_table(values=i,index=\"Survived\",aggfunc=[\"mean\",\"count\"]))"
   ]
  },
  {
   "cell_type": "code",
   "execution_count": 28,
   "metadata": {},
   "outputs": [],
   "source": [
    "# prediction\n",
    "from sklearn.linear_model import LogisticRegression\n",
    "\n",
    "# define X and y\n",
    "\n",
    "X = df_train2[['Pclass','AgeCat','SibSp','Parch','Sex_female','Embarked_S','Fare']]\n",
    "y = df_train2['Survived']"
   ]
  },
  {
   "cell_type": "code",
   "execution_count": 29,
   "metadata": {},
   "outputs": [],
   "source": [
    "# create a machine learning model\n",
    "lr = LogisticRegression() # empty model\n",
    "\n",
    "\n",
    "# train model with training data\n",
    "lr.fit(X,y)\n",
    "\n",
    "# predict result\n",
    "yhat = lr.predict(X)"
   ]
  },
  {
   "cell_type": "code",
   "execution_count": 30,
   "metadata": {},
   "outputs": [
    {
     "data": {
      "text/plain": [
       "array([0, 1, 1, 1, 0, 0, 0, 0, 1, 1], dtype=int64)"
      ]
     },
     "execution_count": 30,
     "metadata": {},
     "output_type": "execute_result"
    }
   ],
   "source": [
    "yhat[:10]"
   ]
  },
  {
   "cell_type": "code",
   "execution_count": 31,
   "metadata": {},
   "outputs": [
    {
     "data": {
      "text/plain": [
       "0.797979797979798"
      ]
     },
     "execution_count": 31,
     "metadata": {},
     "output_type": "execute_result"
    }
   ],
   "source": [
    "import numpy as np\n",
    "from sklearn.metrics import accuracy_score\n",
    "y_pred = yhat\n",
    "y_true = df_train2[\"Survived\"]\n",
    "accuracy_score(y_true, y_pred)\n"
   ]
  },
  {
   "cell_type": "code",
   "execution_count": null,
   "metadata": {},
   "outputs": [],
   "source": []
  },
  {
   "cell_type": "code",
   "execution_count": 32,
   "metadata": {},
   "outputs": [],
   "source": [
    "# run test.csv"
   ]
  },
  {
   "cell_type": "code",
   "execution_count": null,
   "metadata": {},
   "outputs": [],
   "source": []
  },
  {
   "cell_type": "code",
   "execution_count": null,
   "metadata": {},
   "outputs": [],
   "source": []
  }
 ],
 "metadata": {
  "kernelspec": {
   "display_name": "Python 3",
   "language": "python",
   "name": "python3"
  },
  "language_info": {
   "codemirror_mode": {
    "name": "ipython",
    "version": 3
   },
   "file_extension": ".py",
   "mimetype": "text/x-python",
   "name": "python",
   "nbconvert_exporter": "python",
   "pygments_lexer": "ipython3",
   "version": "3.8.3"
  }
 },
 "nbformat": 4,
 "nbformat_minor": 4
}
