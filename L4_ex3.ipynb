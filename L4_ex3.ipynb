{
 "cells": [
  {
   "cell_type": "markdown",
   "metadata": {},
   "source": [
    "### Exercise 3\n",
    "Write a program that takes a list and returns a new list that contains all the elements of the first list with no duplicates."
   ]
  },
  {
   "cell_type": "code",
   "execution_count": 3,
   "metadata": {},
   "outputs": [],
   "source": [
    "import random\n",
    "\n",
    "def checkinput():    \n",
    "    while True: \n",
    "        listlength_str=input(\"please input length of a list >>\")\n",
    "        if listlength_str.isdigit() is True:\n",
    "            listlength_int=int(listlength_str)\n",
    "            return listlength_int\n",
    "            break"
   ]
  },
  {
   "cell_type": "code",
   "execution_count": 4,
   "metadata": {},
   "outputs": [
    {
     "name": "stdin",
     "output_type": "stream",
     "text": [
      "please input length of a list >> sdksf\n",
      "please input length of a list >> 10\n"
     ]
    },
    {
     "name": "stdout",
     "output_type": "stream",
     "text": [
      "full list is [9, 3, 7, 8, 8, 8, 1, 9, 4, 8]\n",
      "new list is [1, 3, 4, 7, 8, 9].\n"
     ]
    }
   ],
   "source": [
    "listlength_int=checkinput()\n",
    "emptylist=list()\n",
    "for i in range(listlength_int):\n",
    "    emptylist.append(random.randrange(1,listlength_int))\n",
    "newlist=set(emptylist)\n",
    "print(\"full list is {}\".format(emptylist))\n",
    "print(\"new list is {}.\".format(list(newlist)))"
   ]
  },
  {
   "cell_type": "code",
   "execution_count": null,
   "metadata": {},
   "outputs": [],
   "source": []
  },
  {
   "cell_type": "code",
   "execution_count": null,
   "metadata": {},
   "outputs": [],
   "source": []
  }
 ],
 "metadata": {
  "kernelspec": {
   "display_name": "Python 3",
   "language": "python",
   "name": "python3"
  },
  "language_info": {
   "codemirror_mode": {
    "name": "ipython",
    "version": 3
   },
   "file_extension": ".py",
   "mimetype": "text/x-python",
   "name": "python",
   "nbconvert_exporter": "python",
   "pygments_lexer": "ipython3",
   "version": "3.8.3"
  }
 },
 "nbformat": 4,
 "nbformat_minor": 4
}
