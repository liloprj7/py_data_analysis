{
 "cells": [
  {
   "cell_type": "markdown",
   "metadata": {},
   "source": [
    "### Exercise 4\n",
    "Write a program that takes two lists and returns True if they have at least one common member."
   ]
  },
  {
   "cell_type": "code",
   "execution_count": 13,
   "metadata": {},
   "outputs": [],
   "source": [
    "import random\n",
    "\n",
    "def createlist():\n",
    "    default=0\n",
    "    emptylist=[]\n",
    "    while default<5:\n",
    "        a=int(input(\"write down a number >>\"))\n",
    "        emptylist.append(a)\n",
    "        default+=1\n",
    "    return emptylist\n",
    "\n",
    "def checkduplicate(list1,list2):\n",
    "    combinedlist=list1+list2\n",
    "    if len(set(combinedlist))!=len(set(list1))+len(set(list1)):\n",
    "        print(list1+list2)\n",
    "        print(\"there are duplicate values\")\n",
    "        return True\n",
    "    else: \n",
    "        print(\"no duplicate values\")\n",
    "        return False"
   ]
  },
  {
   "cell_type": "code",
   "execution_count": 17,
   "metadata": {},
   "outputs": [
    {
     "name": "stdout",
     "output_type": "stream",
     "text": [
      "list1: input a number for 5 times\n"
     ]
    },
    {
     "name": "stdin",
     "output_type": "stream",
     "text": [
      "write down a number >> 7\n",
      "write down a number >> 7\n",
      "write down a number >> 6\n",
      "write down a number >> 9\n",
      "write down a number >> 0\n"
     ]
    },
    {
     "name": "stdout",
     "output_type": "stream",
     "text": [
      "[7, 7, 6, 9, 0]\n",
      "list2: input a number for 5 times\n"
     ]
    },
    {
     "name": "stdin",
     "output_type": "stream",
     "text": [
      "write down a number >> 3\n",
      "write down a number >> 6\n",
      "write down a number >> 14\n",
      "write down a number >> 3\n",
      "write down a number >> 5\n"
     ]
    },
    {
     "name": "stdout",
     "output_type": "stream",
     "text": [
      "[3, 6, 14, 3, 5]\n",
      "[7, 7, 6, 9, 0, 3, 6, 14, 3, 5]\n",
      "there are duplicate values\n",
      "True\n"
     ]
    }
   ],
   "source": [
    "##### create 2 lists\n",
    "#then merge\n",
    "#check length of merged list < sum of 2 lists\n",
    "\n",
    "print(\"list1: input a number for 5 times\")\n",
    "list1=fulllist=createlist()\n",
    "print(list1)\n",
    "print(\"list2: input a number for 5 times\")\n",
    "list2=fulllist=createlist()\n",
    "print(list2)\n",
    "\n",
    "result=checkduplicate(list1,list2)\n",
    "print(result)\n",
    "\n",
    "\n"
   ]
  },
  {
   "cell_type": "code",
   "execution_count": null,
   "metadata": {},
   "outputs": [],
   "source": []
  },
  {
   "cell_type": "code",
   "execution_count": null,
   "metadata": {},
   "outputs": [],
   "source": []
  },
  {
   "cell_type": "code",
   "execution_count": null,
   "metadata": {},
   "outputs": [],
   "source": []
  },
  {
   "cell_type": "code",
   "execution_count": null,
   "metadata": {},
   "outputs": [],
   "source": []
  },
  {
   "cell_type": "code",
   "execution_count": null,
   "metadata": {},
   "outputs": [],
   "source": []
  }
 ],
 "metadata": {
  "kernelspec": {
   "display_name": "Python 3",
   "language": "python",
   "name": "python3"
  },
  "language_info": {
   "codemirror_mode": {
    "name": "ipython",
    "version": 3
   },
   "file_extension": ".py",
   "mimetype": "text/x-python",
   "name": "python",
   "nbconvert_exporter": "python",
   "pygments_lexer": "ipython3",
   "version": "3.8.3"
  }
 },
 "nbformat": 4,
 "nbformat_minor": 4
}
